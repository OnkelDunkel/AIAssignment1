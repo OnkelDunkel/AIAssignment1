{
 "cells": [
  {
   "cell_type": "code",
   "execution_count": 1,
   "metadata": {},
   "outputs": [],
   "source": [
    "import numpy as np\n",
    "import pandas as pd\n",
    "import pprint\n",
    "import matplotlib as plt\n",
    "import datetime\n",
    "from pandas import DataFrame\n",
    "from sklearn import linear_model\n"
   ]
  },
  {
   "cell_type": "code",
   "execution_count": 2,
   "metadata": {},
   "outputs": [],
   "source": [
    "data_url = \"https://raw.githubusercontent.com/datsoftlyngby/soft2019spring-ai/master/projects/project1/users.json\"\n",
    "data = pd.read_json(data_url, date_unit=\"ms\")"
   ]
  },
  {
   "cell_type": "code",
   "execution_count": 3,
   "metadata": {},
   "outputs": [
    {
     "name": "stdout",
     "output_type": "stream",
     "text": [
      "Not an integer\n",
      "nan\n",
      "Not an integer\n",
      "nan\n",
      "Not an integer\n",
      "nan\n",
      "Not an integer\n",
      "nan\n",
      "Not an integer\n",
      "nan\n",
      "Not an integer\n",
      "nan\n",
      "Not an integer\n",
      "nan\n",
      "Not an integer\n",
      "nan\n",
      "Not an integer\n",
      "nan\n",
      "Not an integer\n",
      "nan\n",
      "Not an integer\n",
      "nan\n",
      "Not an integer\n",
      "nan\n",
      "Not an integer\n",
      "nan\n",
      "Not an integer\n",
      "nan\n",
      "Not an integer\n",
      "nan\n",
      "Not an integer\n",
      "nan\n",
      "Not an integer\n",
      "nan\n",
      "Not an integer\n",
      "nan\n",
      "Not an integer\n",
      "nan\n",
      "Not an integer\n",
      "nan\n",
      "Not an integer\n",
      "nan\n",
      "Not an integer\n",
      "nan\n",
      "Not an integer\n",
      "nan\n",
      "Not an integer\n",
      "nan\n",
      "Not an integer\n",
      "nan\n",
      "Not an integer\n",
      "nan\n",
      "Not an integer\n",
      "nan\n",
      "Not an integer\n",
      "nan\n",
      "Not an integer\n",
      "nan\n",
      "Not an integer\n",
      "nan\n",
      "Not an integer\n",
      "nan\n",
      "Not an integer\n",
      "nan\n",
      "Not an integer\n",
      "nan\n",
      "Not an integer\n",
      "nan\n",
      "Not an integer\n",
      "nan\n",
      "Not an integer\n",
      "nan\n",
      "Not an integer\n",
      "nan\n",
      "Not an integer\n",
      "nan\n",
      "Not an integer\n",
      "nan\n",
      "Not an integer\n",
      "nan\n",
      "Not an integer\n",
      "nan\n",
      "Not an integer\n",
      "nan\n",
      "Not an integer\n",
      "nan\n",
      "Not an integer\n",
      "nan\n",
      "Not an integer\n",
      "nan\n",
      "Not an integer\n",
      "nan\n",
      "Not an integer\n",
      "nan\n",
      "Not an integer\n",
      "nan\n",
      "Not an integer\n",
      "nan\n",
      "Not an integer\n",
      "nan\n",
      "Not an integer\n",
      "nan\n",
      "Not an integer\n",
      "nan\n",
      "Not an integer\n",
      "nan\n",
      "Not an integer\n",
      "nan\n",
      "Not an integer\n",
      "nan\n",
      "Not an integer\n",
      "nan\n",
      "Not an integer\n",
      "nan\n",
      "Not an integer\n",
      "nan\n",
      "Not an integer\n",
      "nan\n",
      "Not an integer\n",
      "nan\n",
      "Not an integer\n",
      "nan\n",
      "Not an integer\n",
      "nan\n",
      "Not an integer\n",
      "nan\n",
      "Not an integer\n",
      "nan\n",
      "Not an integer\n",
      "nan\n",
      "Not an integer\n",
      "nan\n",
      "Not an integer\n",
      "nan\n",
      "Not an integer\n",
      "nan\n",
      "Not an integer\n",
      "nan\n",
      "Not an integer\n",
      "nan\n",
      "Not an integer\n",
      "nan\n",
      "Not an integer\n",
      "nan\n",
      "Not an integer\n",
      "nan\n",
      "Not an integer\n",
      "nan\n",
      "Not an integer\n",
      "nan\n",
      "Not an integer\n",
      "nan\n",
      "Not an integer\n",
      "nan\n",
      "Not an integer\n",
      "nan\n",
      "Not an integer\n",
      "nan\n",
      "Not an integer\n",
      "nan\n",
      "Not an integer\n",
      "nan\n",
      "Not an integer\n",
      "nan\n",
      "Not an integer\n",
      "nan\n",
      "Not an integer\n",
      "nan\n",
      "Not an integer\n",
      "nan\n",
      "Not an integer\n",
      "nan\n",
      "Not an integer\n",
      "nan\n",
      "Not an integer\n",
      "nan\n",
      "Not an integer\n",
      "nan\n",
      "Not an integer\n",
      "nan\n",
      "Not an integer\n",
      "nan\n",
      "Not an integer\n",
      "nan\n",
      "Not an integer\n",
      "nan\n",
      "Not an integer\n",
      "nan\n",
      "Not an integer\n",
      "nan\n",
      "Not an integer\n",
      "nan\n",
      "Not an integer\n",
      "nan\n",
      "Not an integer\n",
      "nan\n",
      "Not an integer\n",
      "nan\n",
      "Not an integer\n",
      "nan\n",
      "Not an integer\n",
      "nan\n",
      "Not an integer\n",
      "nan\n",
      "Not an integer\n",
      "nan\n",
      "Not an integer\n",
      "nan\n",
      "Not an integer\n",
      "nan\n",
      "Not an integer\n",
      "nan\n",
      "Not an integer\n",
      "nan\n",
      "Not an integer\n",
      "nan\n",
      "Not an integer\n",
      "nan\n",
      "Not an integer\n",
      "nan\n",
      "Not an integer\n",
      "nan\n",
      "Not an integer\n",
      "nan\n",
      "Not an integer\n",
      "nan\n",
      "Not an integer\n",
      "nan\n",
      "Not an integer\n",
      "nan\n",
      "Not an integer\n",
      "nan\n",
      "Not an integer\n",
      "nan\n",
      "Not an integer\n",
      "nan\n",
      "Not an integer\n",
      "nan\n",
      "Not an integer\n",
      "nan\n",
      "Not an integer\n",
      "nan\n",
      "Not an integer\n",
      "nan\n",
      "Not an integer\n",
      "nan\n",
      "Not an integer\n",
      "nan\n",
      "Not an integer\n",
      "nan\n",
      "Not an integer\n",
      "nan\n",
      "Not an integer\n",
      "nan\n",
      "Not an integer\n",
      "nan\n",
      "Not an integer\n",
      "nan\n",
      "Not an integer\n",
      "nan\n",
      "Not an integer\n",
      "nan\n",
      "Not an integer\n",
      "nan\n"
     ]
    }
   ],
   "source": [
    "now = datetime.datetime.now()\n",
    "data[\"days_since_created\"] = np.nan\n",
    "\n",
    "def get_time_since_creation(created):\n",
    "    try:\n",
    "        i = int(created)\n",
    "        create_date = datetime.datetime.fromtimestamp(i)\n",
    "        return (now - create_date).days\n",
    "    except ValueError:\n",
    "        print('Not an integer')\n",
    "        print(created)\n",
    "\n",
    "data['days_since_created'] = data.apply(lambda row: get_time_since_creation(row['created']), axis=1)"
   ]
  },
  {
   "cell_type": "code",
   "execution_count": null,
   "metadata": {},
   "outputs": [],
   "source": []
  },
  {
   "cell_type": "code",
   "execution_count": 5,
   "metadata": {},
   "outputs": [
    {
     "data": {
      "text/plain": [
       "<matplotlib.axes._subplots.AxesSubplot at 0x7f0b05fed160>"
      ]
     },
     "execution_count": 5,
     "metadata": {},
     "output_type": "execute_result"
    },
    {
     "data": {
      "image/png": "[encoded data removed]",
      "text/plain": [
       "<Figure size 432x288 with 1 Axes>"
      ]
     },
     "metadata": {},
     "output_type": "display_data"
    }
   ],
   "source": [
    "data.plot.scatter(x=\"days_since_created\", y=\"karma\")"
   ]
  },
  {
   "cell_type": "markdown",
   "metadata": {},
   "source": [
    "Linear regration is continous nature when trying to predict output.It is a supervise learning algorithm. We have data available like input data and output data. "
   ]
  },
  {
   "cell_type": "code",
   "execution_count": 6,
   "metadata": {
    "scrolled": true
   },
   "outputs": [
    {
     "data": {
      "text/html": [
       "<div>\n",
       "<style scoped>\n",
       "    .dataframe tbody tr th:only-of-type {\n",
       "        vertical-align: middle;\n",
       "    }\n",
       "\n",
       "    .dataframe tbody tr th {\n",
       "        vertical-align: top;\n",
       "    }\n",
       "\n",
       "    .dataframe thead th {\n",
       "        text-align: right;\n",
       "    }\n",
       "</style>\n",
       "<table border=\"1\" class=\"dataframe\">\n",
       "  <thead>\n",
       "    <tr style=\"text-align: right;\">\n",
       "      <th></th>\n",
       "      <th>about</th>\n",
       "      <th>created</th>\n",
       "      <th>error</th>\n",
       "      <th>id</th>\n",
       "      <th>karma</th>\n",
       "      <th>submitted</th>\n",
       "      <th>days_since_created</th>\n",
       "    </tr>\n",
       "  </thead>\n",
       "  <tbody>\n",
       "    <tr>\n",
       "      <th>0</th>\n",
       "      <td>NaN</td>\n",
       "      <td>1.510266e+09</td>\n",
       "      <td>NaN</td>\n",
       "      <td>gcgggfxsdg</td>\n",
       "      <td>-1.0</td>\n",
       "      <td>5</td>\n",
       "      <td>467.0</td>\n",
       "    </tr>\n",
       "    <tr>\n",
       "      <th>1</th>\n",
       "      <td>Ruby, Open Source, Devops</td>\n",
       "      <td>1.325548e+09</td>\n",
       "      <td>NaN</td>\n",
       "      <td>sheerun</td>\n",
       "      <td>102.0</td>\n",
       "      <td>51</td>\n",
       "      <td>2605.0</td>\n",
       "    </tr>\n",
       "    <tr>\n",
       "      <th>2</th>\n",
       "      <td>NaN</td>\n",
       "      <td>1.459331e+09</td>\n",
       "      <td>NaN</td>\n",
       "      <td>keypress</td>\n",
       "      <td>79.0</td>\n",
       "      <td>70</td>\n",
       "      <td>1057.0</td>\n",
       "    </tr>\n",
       "    <tr>\n",
       "      <th>3</th>\n",
       "      <td>[ my public key: https:&amp;#x2F;&amp;#x2F;keybase.io&amp;...</td>\n",
       "      <td>1.379698e+09</td>\n",
       "      <td>NaN</td>\n",
       "      <td>pyprism</td>\n",
       "      <td>1356.0</td>\n",
       "      <td>114</td>\n",
       "      <td>1978.0</td>\n",
       "    </tr>\n",
       "    <tr>\n",
       "      <th>4</th>\n",
       "      <td>Email: ejstronge@gmail.com\\nGithub: https:&amp;#x2...</td>\n",
       "      <td>1.355740e+09</td>\n",
       "      <td>NaN</td>\n",
       "      <td>ejstronge</td>\n",
       "      <td>460.0</td>\n",
       "      <td>144</td>\n",
       "      <td>2256.0</td>\n",
       "    </tr>\n",
       "  </tbody>\n",
       "</table>\n",
       "</div>"
      ],
      "text/plain": [
       "                                               about       created error  \\\n",
       "0                                                NaN  1.510266e+09   NaN   \n",
       "1                          Ruby, Open Source, Devops  1.325548e+09   NaN   \n",
       "2                                                NaN  1.459331e+09   NaN   \n",
       "3  [ my public key: https:&#x2F;&#x2F;keybase.io&...  1.379698e+09   NaN   \n",
       "4  Email: ejstronge@gmail.com\\nGithub: https:&#x2...  1.355740e+09   NaN   \n",
       "\n",
       "           id   karma  submitted  days_since_created  \n",
       "0  gcgggfxsdg    -1.0          5               467.0  \n",
       "1     sheerun   102.0         51              2605.0  \n",
       "2    keypress    79.0         70              1057.0  \n",
       "3     pyprism  1356.0        114              1978.0  \n",
       "4   ejstronge   460.0        144              2256.0  "
      ]
     },
     "execution_count": 6,
     "metadata": {},
     "output_type": "execute_result"
    }
   ],
   "source": [
    " data.head()  #first five column i have displayed"
   ]
  },
  {
   "cell_type": "code",
   "execution_count": 24,
   "metadata": {},
   "outputs": [
    {
     "name": "stderr",
     "output_type": "stream",
     "text": [
      "/home/ras/.local/lib/python3.6/site-packages/sklearn/linear_model/logistic.py:433: FutureWarning: Default solver will be changed to 'lbfgs' in 0.22. Specify a solver to silence this warning.\n",
      "  FutureWarning)\n",
      "/home/ras/.local/lib/python3.6/site-packages/sklearn/utils/validation.py:761: DataConversionWarning: A column-vector y was passed when a 1d array was expected. Please change the shape of y to (n_samples, ), for example using ravel().\n",
      "  y = column_or_1d(y, warn=True)\n"
     ]
    },
    {
     "ename": "ValueError",
     "evalue": "This solver needs samples of at least 2 classes in the data, but the data contains only one class: False",
     "output_type": "error",
     "traceback": [
      "\u001b[0;31m---------------------------------------------------------------------------\u001b[0m",
      "\u001b[0;31mValueError\u001b[0m                                Traceback (most recent call last)",
      "\u001b[0;32m<ipython-input-24-2f90c0bc3704>\u001b[0m in \u001b[0;36m<module>\u001b[0;34m()\u001b[0m\n\u001b[1;32m      3\u001b[0m \u001b[0mys\u001b[0m \u001b[0;34m=\u001b[0m \u001b[0mnp\u001b[0m\u001b[0;34m.\u001b[0m\u001b[0marray\u001b[0m\u001b[0;34m(\u001b[0m\u001b[0mdata\u001b[0m\u001b[0;34m[\u001b[0m\u001b[0;34m\"karma\"\u001b[0m\u001b[0;34m]\u001b[0m\u001b[0;34m.\u001b[0m\u001b[0mall\u001b[0m\u001b[0;34m(\u001b[0m\u001b[0;34m)\u001b[0m\u001b[0;34m)\u001b[0m\u001b[0;34m.\u001b[0m\u001b[0mreshape\u001b[0m\u001b[0;34m(\u001b[0m\u001b[0;34m-\u001b[0m\u001b[0;36m1\u001b[0m\u001b[0;34m,\u001b[0m \u001b[0;36m1\u001b[0m\u001b[0;34m)\u001b[0m\u001b[0;34m\u001b[0m\u001b[0;34m\u001b[0m\u001b[0m\n\u001b[1;32m      4\u001b[0m \u001b[0;34m\u001b[0m\u001b[0m\n\u001b[0;32m----> 5\u001b[0;31m \u001b[0mreg\u001b[0m\u001b[0;34m.\u001b[0m\u001b[0mfit\u001b[0m\u001b[0;34m(\u001b[0m\u001b[0mxs\u001b[0m\u001b[0;34m,\u001b[0m \u001b[0mys\u001b[0m\u001b[0;34m)\u001b[0m\u001b[0;34m\u001b[0m\u001b[0;34m\u001b[0m\u001b[0m\n\u001b[0m\u001b[1;32m      6\u001b[0m \u001b[0mpprint\u001b[0m\u001b[0;34m.\u001b[0m\u001b[0mpprint\u001b[0m\u001b[0;34m(\u001b[0m\u001b[0mxs\u001b[0m\u001b[0;34m)\u001b[0m\u001b[0;34m\u001b[0m\u001b[0;34m\u001b[0m\u001b[0m\n",
      "\u001b[0;32m/home/ras/.local/lib/python3.6/site-packages/sklearn/linear_model/logistic.py\u001b[0m in \u001b[0;36mfit\u001b[0;34m(self, X, y, sample_weight)\u001b[0m\n\u001b[1;32m   1303\u001b[0m                 \u001b[0mself\u001b[0m\u001b[0;34m.\u001b[0m\u001b[0mclass_weight\u001b[0m\u001b[0;34m,\u001b[0m \u001b[0mself\u001b[0m\u001b[0;34m.\u001b[0m\u001b[0mpenalty\u001b[0m\u001b[0;34m,\u001b[0m \u001b[0mself\u001b[0m\u001b[0;34m.\u001b[0m\u001b[0mdual\u001b[0m\u001b[0;34m,\u001b[0m \u001b[0mself\u001b[0m\u001b[0;34m.\u001b[0m\u001b[0mverbose\u001b[0m\u001b[0;34m,\u001b[0m\u001b[0;34m\u001b[0m\u001b[0;34m\u001b[0m\u001b[0m\n\u001b[1;32m   1304\u001b[0m                 \u001b[0mself\u001b[0m\u001b[0;34m.\u001b[0m\u001b[0mmax_iter\u001b[0m\u001b[0;34m,\u001b[0m \u001b[0mself\u001b[0m\u001b[0;34m.\u001b[0m\u001b[0mtol\u001b[0m\u001b[0;34m,\u001b[0m \u001b[0mself\u001b[0m\u001b[0;34m.\u001b[0m\u001b[0mrandom_state\u001b[0m\u001b[0;34m,\u001b[0m\u001b[0;34m\u001b[0m\u001b[0;34m\u001b[0m\u001b[0m\n\u001b[0;32m-> 1305\u001b[0;31m                 sample_weight=sample_weight)\n\u001b[0m\u001b[1;32m   1306\u001b[0m             \u001b[0mself\u001b[0m\u001b[0;34m.\u001b[0m\u001b[0mn_iter_\u001b[0m \u001b[0;34m=\u001b[0m \u001b[0mnp\u001b[0m\u001b[0;34m.\u001b[0m\u001b[0marray\u001b[0m\u001b[0;34m(\u001b[0m\u001b[0;34m[\u001b[0m\u001b[0mn_iter_\u001b[0m\u001b[0;34m]\u001b[0m\u001b[0;34m)\u001b[0m\u001b[0;34m\u001b[0m\u001b[0;34m\u001b[0m\u001b[0m\n\u001b[1;32m   1307\u001b[0m             \u001b[0;32mreturn\u001b[0m \u001b[0mself\u001b[0m\u001b[0;34m\u001b[0m\u001b[0;34m\u001b[0m\u001b[0m\n",
      "\u001b[0;32m/home/ras/.local/lib/python3.6/site-packages/sklearn/svm/base.py\u001b[0m in \u001b[0;36m_fit_liblinear\u001b[0;34m(X, y, C, fit_intercept, intercept_scaling, class_weight, penalty, dual, verbose, max_iter, tol, random_state, multi_class, loss, epsilon, sample_weight)\u001b[0m\n\u001b[1;32m    879\u001b[0m             raise ValueError(\"This solver needs samples of at least 2 classes\"\n\u001b[1;32m    880\u001b[0m                              \u001b[0;34m\" in the data, but the data contains only one\"\u001b[0m\u001b[0;34m\u001b[0m\u001b[0;34m\u001b[0m\u001b[0m\n\u001b[0;32m--> 881\u001b[0;31m                              \" class: %r\" % classes_[0])\n\u001b[0m\u001b[1;32m    882\u001b[0m \u001b[0;34m\u001b[0m\u001b[0m\n\u001b[1;32m    883\u001b[0m         \u001b[0mclass_weight_\u001b[0m \u001b[0;34m=\u001b[0m \u001b[0mcompute_class_weight\u001b[0m\u001b[0;34m(\u001b[0m\u001b[0mclass_weight\u001b[0m\u001b[0;34m,\u001b[0m \u001b[0mclasses_\u001b[0m\u001b[0;34m,\u001b[0m \u001b[0my\u001b[0m\u001b[0;34m)\u001b[0m\u001b[0;34m\u001b[0m\u001b[0;34m\u001b[0m\u001b[0m\n",
      "\u001b[0;31mValueError\u001b[0m: This solver needs samples of at least 2 classes in the data, but the data contains only one class: False"
     ]
    }
   ],
   "source": [
    "reg = linear_model.LogisticRegression()  # declere linear regration object\n",
    "xs = data[\"days_since_created\"]\n",
    "ys = data[\"karma\"]\n",
    "\n",
    "xs_reshape = np.array(xs).reshape(-1, 1) \n",
    "\n",
    "reg.fit(xs_reshape, ys)\n",
    "pprint.pprint(xs)"
   ]
  },
  {
   "cell_type": "code",
   "execution_count": 11,
   "metadata": {},
   "outputs": [],
   "source": [
    "area = data[['days_since_created']]"
   ]
  },
  {
   "cell_type": "code",
   "execution_count": 12,
   "metadata": {},
   "outputs": [],
   "source": [
    "price = data.karma"
   ]
  },
  {
   "cell_type": "code",
   "execution_count": null,
   "metadata": {},
   "outputs": [],
   "source": [
    "x = data.iloc[:,0:-1].values  # i need to replace last two column"
   ]
  },
  {
   "cell_type": "code",
   "execution_count": null,
   "metadata": {},
   "outputs": [],
   "source": [
    "y= x = data.iloc[:,-1].values"
   ]
  },
  {
   "cell_type": "code",
   "execution_count": null,
   "metadata": {},
   "outputs": [],
   "source": [
    "y"
   ]
  },
  {
   "cell_type": "code",
   "execution_count": null,
   "metadata": {},
   "outputs": [],
   "source": [
    "x.shape"
   ]
  },
  {
   "cell_type": "code",
   "execution_count": null,
   "metadata": {},
   "outputs": [],
   "source": [
    "y.shape"
   ]
  },
  {
   "cell_type": "code",
   "execution_count": null,
   "metadata": {},
   "outputs": [],
   "source": [
    "from sklearn.model_selection import train_test_split"
   ]
  },
  {
   "cell_type": "code",
   "execution_count": null,
   "metadata": {},
   "outputs": [],
   "source": [
    "x_train, x_test, y_train, y_test=train_test_split(x,y, test_size =0.25, random_state =123)"
   ]
  },
  {
   "cell_type": "code",
   "execution_count": null,
   "metadata": {},
   "outputs": [],
   "source": [
    "x_train.reshape"
   ]
  },
  {
   "cell_type": "code",
   "execution_count": null,
   "metadata": {},
   "outputs": [],
   "source": [
    "x_test.shape"
   ]
  },
  {
   "cell_type": "code",
   "execution_count": null,
   "metadata": {},
   "outputs": [],
   "source": [
    "from sklearn.linear_model import LinearRegression"
   ]
  },
  {
   "cell_type": "code",
   "execution_count": null,
   "metadata": {},
   "outputs": [],
   "source": [
    "lr = LinearRegression() # create linear regrasion object"
   ]
  },
  {
   "cell_type": "code",
   "execution_count": null,
   "metadata": {},
   "outputs": [],
   "source": [
    "lr.fit(x_train, y_train)"
   ]
  },
  {
   "cell_type": "code",
   "execution_count": null,
   "metadata": {},
   "outputs": [],
   "source": []
  },
  {
   "cell_type": "code",
   "execution_count": null,
   "metadata": {},
   "outputs": [],
   "source": []
  }
 ],
 "metadata": {
  "kernelspec": {
   "display_name": "Python 3",
   "language": "python",
   "name": "python3"
  },
  "language_info": {
   "codemirror_mode": {
    "name": "ipython",
    "version": 3
   },
   "file_extension": ".py",
   "mimetype": "text/x-python",
   "name": "python",
   "nbconvert_exporter": "python",
   "pygments_lexer": "ipython3",
   "version": "3.6.7"
  }
 },
 "nbformat": 4,
 "nbformat_minor": 2
}
