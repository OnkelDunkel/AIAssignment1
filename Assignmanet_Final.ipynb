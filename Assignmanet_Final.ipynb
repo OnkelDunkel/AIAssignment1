{
 "cells": [
  {
   "cell_type": "code",
   "execution_count": 1,
   "metadata": {},
   "outputs": [],
   "source": [
    "import numpy as np\n",
    "import pandas as pd\n",
    "import pprint\n",
    "import matplotlib as plt\n",
    "import datetime\n",
    "from pandas import DataFrame\n",
    "from sklearn import linear_model\n"
   ]
  },
  {
   "cell_type": "code",
   "execution_count": 2,
   "metadata": {},
   "outputs": [],
   "source": [
    "data_url = \"https://raw.githubusercontent.com/datsoftlyngby/soft2019spring-ai/master/projects/project1/users.json\"\n",
    "data = pd.read_json(data_url, date_unit=\"ms\")"
   ]
  },
  {
   "cell_type": "code",
   "execution_count": 3,
   "metadata": {},
   "outputs": [
    {
     "name": "stdout",
     "output_type": "stream",
     "text": [
      "Not an integer\n",
      "nan\n",
      "Not an integer\n",
      "nan\n",
      "Not an integer\n",
      "nan\n",
      "Not an integer\n",
      "nan\n",
      "Not an integer\n",
      "nan\n",
      "Not an integer\n",
      "nan\n",
      "Not an integer\n",
      "nan\n",
      "Not an integer\n",
      "nan\n",
      "Not an integer\n",
      "nan\n",
      "Not an integer\n",
      "nan\n",
      "Not an integer\n",
      "nan\n",
      "Not an integer\n",
      "nan\n",
      "Not an integer\n",
      "nan\n",
      "Not an integer\n",
      "nan\n",
      "Not an integer\n",
      "nan\n",
      "Not an integer\n",
      "nan\n",
      "Not an integer\n",
      "nan\n",
      "Not an integer\n",
      "nan\n",
      "Not an integer\n",
      "nan\n",
      "Not an integer\n",
      "nan\n",
      "Not an integer\n",
      "nan\n",
      "Not an integer\n",
      "nan\n",
      "Not an integer\n",
      "nan\n",
      "Not an integer\n",
      "nan\n",
      "Not an integer\n",
      "nan\n",
      "Not an integer\n",
      "nan\n",
      "Not an integer\n",
      "nan\n",
      "Not an integer\n",
      "nan\n",
      "Not an integer\n",
      "nan\n",
      "Not an integer\n",
      "nan\n",
      "Not an integer\n",
      "nan\n",
      "Not an integer\n",
      "nan\n",
      "Not an integer\n",
      "nan\n",
      "Not an integer\n",
      "nan\n",
      "Not an integer\n",
      "nan\n",
      "Not an integer\n",
      "nan\n",
      "Not an integer\n",
      "nan\n",
      "Not an integer\n",
      "nan\n",
      "Not an integer\n",
      "nan\n",
      "Not an integer\n",
      "nan\n",
      "Not an integer\n",
      "nan\n",
      "Not an integer\n",
      "nan\n",
      "Not an integer\n",
      "nan\n",
      "Not an integer\n",
      "nan\n",
      "Not an integer\n",
      "nan\n",
      "Not an integer\n",
      "nan\n",
      "Not an integer\n",
      "nan\n",
      "Not an integer\n",
      "nan\n",
      "Not an integer\n",
      "nan\n",
      "Not an integer\n",
      "nan\n",
      "Not an integer\n",
      "nan\n",
      "Not an integer\n",
      "nan\n",
      "Not an integer\n",
      "nan\n",
      "Not an integer\n",
      "nan\n",
      "Not an integer\n",
      "nan\n",
      "Not an integer\n",
      "nan\n",
      "Not an integer\n",
      "nan\n",
      "Not an integer\n",
      "nan\n",
      "Not an integer\n",
      "nan\n",
      "Not an integer\n",
      "nan\n",
      "Not an integer\n",
      "nan\n",
      "Not an integer\n",
      "nan\n",
      "Not an integer\n",
      "nan\n",
      "Not an integer\n",
      "nan\n",
      "Not an integer\n",
      "nan\n",
      "Not an integer\n",
      "nan\n",
      "Not an integer\n",
      "nan\n",
      "Not an integer\n",
      "nan\n",
      "Not an integer\n",
      "nan\n",
      "Not an integer\n",
      "nan\n",
      "Not an integer\n",
      "nan\n",
      "Not an integer\n",
      "nan\n",
      "Not an integer\n",
      "nan\n",
      "Not an integer\n",
      "nan\n",
      "Not an integer\n",
      "nan\n",
      "Not an integer\n",
      "nan\n",
      "Not an integer\n",
      "nan\n",
      "Not an integer\n",
      "nan\n",
      "Not an integer\n",
      "nan\n",
      "Not an integer\n",
      "nan\n",
      "Not an integer\n",
      "nan\n",
      "Not an integer\n",
      "nan\n",
      "Not an integer\n",
      "nan\n",
      "Not an integer\n",
      "nan\n",
      "Not an integer\n",
      "nan\n",
      "Not an integer\n",
      "nan\n",
      "Not an integer\n",
      "nan\n",
      "Not an integer\n",
      "nan\n",
      "Not an integer\n",
      "nan\n",
      "Not an integer\n",
      "nan\n",
      "Not an integer\n",
      "nan\n",
      "Not an integer\n",
      "nan\n",
      "Not an integer\n",
      "nan\n",
      "Not an integer\n",
      "nan\n",
      "Not an integer\n",
      "nan\n",
      "Not an integer\n",
      "nan\n",
      "Not an integer\n",
      "nan\n",
      "Not an integer\n",
      "nan\n",
      "Not an integer\n",
      "nan\n",
      "Not an integer\n",
      "nan\n",
      "Not an integer\n",
      "nan\n",
      "Not an integer\n",
      "nan\n",
      "Not an integer\n",
      "nan\n",
      "Not an integer\n",
      "nan\n",
      "Not an integer\n",
      "nan\n",
      "Not an integer\n",
      "nan\n",
      "Not an integer\n",
      "nan\n",
      "Not an integer\n",
      "nan\n",
      "Not an integer\n",
      "nan\n",
      "Not an integer\n",
      "nan\n",
      "Not an integer\n",
      "nan\n",
      "Not an integer\n",
      "nan\n",
      "Not an integer\n",
      "nan\n",
      "Not an integer\n",
      "nan\n",
      "Not an integer\n",
      "nan\n",
      "Not an integer\n",
      "nan\n",
      "Not an integer\n",
      "nan\n",
      "Not an integer\n",
      "nan\n",
      "Not an integer\n",
      "nan\n",
      "Not an integer\n",
      "nan\n",
      "Not an integer\n",
      "nan\n",
      "Not an integer\n",
      "nan\n",
      "Not an integer\n",
      "nan\n",
      "Not an integer\n",
      "nan\n",
      "Not an integer\n",
      "nan\n",
      "Not an integer\n",
      "nan\n",
      "Not an integer\n",
      "nan\n",
      "Not an integer\n",
      "nan\n",
      "Not an integer\n",
      "nan\n",
      "Not an integer\n",
      "nan\n",
      "Not an integer\n",
      "nan\n",
      "Not an integer\n",
      "nan\n"
     ]
    }
   ],
   "source": [
    "now = datetime.datetime.now()\n",
    "data[\"days_since_created\"] = np.nan\n",
    "\n",
    "def get_time_since_creation(created):\n",
    "    try:\n",
    "        i = int(created)\n",
    "        create_date = datetime.datetime.fromtimestamp(i)\n",
    "        return (now - create_date).days\n",
    "    except ValueError:\n",
    "        print('Not an integer')\n",
    "        print(created)\n",
    "\n",
    "data['days_since_created'] = data.apply(lambda row: get_time_since_creation(row['created']), axis=1)"
   ]
  },
  {
   "cell_type": "code",
   "execution_count": null,
   "metadata": {},
   "outputs": [],
   "source": []
  },
  {
   "cell_type": "code",
   "execution_count": 7,
   "metadata": {},
   "outputs": [
    {
     "data": {
      "text/plain": [
       "<matplotlib.axes._subplots.AxesSubplot at 0x2833d35d3c8>"
      ]
     },
     "execution_count": 7,
     "metadata": {},
     "output_type": "execute_result"
    },
    {
     "data": {
      "image/png": "[encoded data removed]",
      "text/plain": [
       "<Figure size 432x288 with 1 Axes>"
      ]
     },
     "metadata": {
      "needs_background": "light"
     },
     "output_type": "display_data"
    }
   ],
   "source": [
    "data.plot.scatter(x=\"days_since_created\", y=\"karma\")"
   ]
  },
  {
   "cell_type": "markdown",
   "metadata": {},
   "source": [
    "Linear regration is continous nature when trying to predict output.It is a supervise learning algorithm. We have data available like input data and output data. "
   ]
  },
  {
   "cell_type": "code",
   "execution_count": 5,
   "metadata": {},
   "outputs": [
    {
     "data": {
      "text/html": [
       "<div>\n",
       "<style scoped>\n",
       "    .dataframe tbody tr th:only-of-type {\n",
       "        vertical-align: middle;\n",
       "    }\n",
       "\n",
       "    .dataframe tbody tr th {\n",
       "        vertical-align: top;\n",
       "    }\n",
       "\n",
       "    .dataframe thead th {\n",
       "        text-align: right;\n",
       "    }\n",
       "</style>\n",
       "<table border=\"1\" class=\"dataframe\">\n",
       "  <thead>\n",
       "    <tr style=\"text-align: right;\">\n",
       "      <th></th>\n",
       "      <th>about</th>\n",
       "      <th>created</th>\n",
       "      <th>error</th>\n",
       "      <th>id</th>\n",
       "      <th>karma</th>\n",
       "      <th>submitted</th>\n",
       "      <th>days_since_created</th>\n",
       "    </tr>\n",
       "  </thead>\n",
       "  <tbody>\n",
       "    <tr>\n",
       "      <th>0</th>\n",
       "      <td>NaN</td>\n",
       "      <td>1.510266e+09</td>\n",
       "      <td>NaN</td>\n",
       "      <td>gcgggfxsdg</td>\n",
       "      <td>-1.0</td>\n",
       "      <td>5</td>\n",
       "      <td>467.0</td>\n",
       "    </tr>\n",
       "    <tr>\n",
       "      <th>1</th>\n",
       "      <td>Ruby, Open Source, Devops</td>\n",
       "      <td>1.325548e+09</td>\n",
       "      <td>NaN</td>\n",
       "      <td>sheerun</td>\n",
       "      <td>102.0</td>\n",
       "      <td>51</td>\n",
       "      <td>2604.0</td>\n",
       "    </tr>\n",
       "    <tr>\n",
       "      <th>2</th>\n",
       "      <td>NaN</td>\n",
       "      <td>1.459331e+09</td>\n",
       "      <td>NaN</td>\n",
       "      <td>keypress</td>\n",
       "      <td>79.0</td>\n",
       "      <td>70</td>\n",
       "      <td>1056.0</td>\n",
       "    </tr>\n",
       "    <tr>\n",
       "      <th>3</th>\n",
       "      <td>[ my public key: https:&amp;#x2F;&amp;#x2F;keybase.io&amp;...</td>\n",
       "      <td>1.379698e+09</td>\n",
       "      <td>NaN</td>\n",
       "      <td>pyprism</td>\n",
       "      <td>1356.0</td>\n",
       "      <td>114</td>\n",
       "      <td>1978.0</td>\n",
       "    </tr>\n",
       "    <tr>\n",
       "      <th>4</th>\n",
       "      <td>Email: ejstronge@gmail.com\\nGithub: https:&amp;#x2...</td>\n",
       "      <td>1.355740e+09</td>\n",
       "      <td>NaN</td>\n",
       "      <td>ejstronge</td>\n",
       "      <td>460.0</td>\n",
       "      <td>144</td>\n",
       "      <td>2255.0</td>\n",
       "    </tr>\n",
       "  </tbody>\n",
       "</table>\n",
       "</div>"
      ],
      "text/plain": [
       "                                               about       created error  \\\n",
       "0                                                NaN  1.510266e+09   NaN   \n",
       "1                          Ruby, Open Source, Devops  1.325548e+09   NaN   \n",
       "2                                                NaN  1.459331e+09   NaN   \n",
       "3  [ my public key: https:&#x2F;&#x2F;keybase.io&...  1.379698e+09   NaN   \n",
       "4  Email: ejstronge@gmail.com\\nGithub: https:&#x2...  1.355740e+09   NaN   \n",
       "\n",
       "           id   karma  submitted  days_since_created  \n",
       "0  gcgggfxsdg    -1.0          5               467.0  \n",
       "1     sheerun   102.0         51              2604.0  \n",
       "2    keypress    79.0         70              1056.0  \n",
       "3     pyprism  1356.0        114              1978.0  \n",
       "4   ejstronge   460.0        144              2255.0  "
      ]
     },
     "execution_count": 5,
     "metadata": {},
     "output_type": "execute_result"
    }
   ],
   "source": [
    " data.head()  #first five column i have displayed"
   ]
  },
  {
   "cell_type": "code",
   "execution_count": 13,
   "metadata": {},
   "outputs": [
    {
     "name": "stderr",
     "output_type": "stream",
     "text": [
      "C:\\Users\\sarke\\Anaconda3\\lib\\site-packages\\sklearn\\linear_model\\logistic.py:433: FutureWarning: Default solver will be changed to 'lbfgs' in 0.22. Specify a solver to silence this warning.\n",
      "  FutureWarning)\n"
     ]
    },
    {
     "ename": "ValueError",
     "evalue": "Input contains NaN, infinity or a value too large for dtype('float64').",
     "output_type": "error",
     "traceback": [
      "\u001b[1;31m---------------------------------------------------------------------------\u001b[0m",
      "\u001b[1;31mValueError\u001b[0m                                Traceback (most recent call last)",
      "\u001b[1;32m<ipython-input-13-fc42773e76ff>\u001b[0m in \u001b[0;36m<module>\u001b[1;34m\u001b[0m\n\u001b[0;32m      1\u001b[0m \u001b[0mreg\u001b[0m \u001b[1;33m=\u001b[0m \u001b[0mlinear_model\u001b[0m\u001b[1;33m.\u001b[0m\u001b[0mLogisticRegression\u001b[0m\u001b[1;33m(\u001b[0m\u001b[1;33m)\u001b[0m  \u001b[1;31m# declere linear regration object\u001b[0m\u001b[1;33m\u001b[0m\u001b[1;33m\u001b[0m\u001b[0m\n\u001b[1;32m----> 2\u001b[1;33m \u001b[0mreg\u001b[0m\u001b[1;33m.\u001b[0m\u001b[0mfit\u001b[0m\u001b[1;33m(\u001b[0m\u001b[0marea\u001b[0m\u001b[1;33m,\u001b[0m \u001b[0mprice\u001b[0m\u001b[1;33m)\u001b[0m\u001b[1;33m\u001b[0m\u001b[1;33m\u001b[0m\u001b[0m\n\u001b[0m",
      "\u001b[1;32m~\\Anaconda3\\lib\\site-packages\\sklearn\\linear_model\\logistic.py\u001b[0m in \u001b[0;36mfit\u001b[1;34m(self, X, y, sample_weight)\u001b[0m\n\u001b[0;32m   1283\u001b[0m \u001b[1;33m\u001b[0m\u001b[0m\n\u001b[0;32m   1284\u001b[0m         X, y = check_X_y(X, y, accept_sparse='csr', dtype=_dtype, order=\"C\",\n\u001b[1;32m-> 1285\u001b[1;33m                          accept_large_sparse=solver != 'liblinear')\n\u001b[0m\u001b[0;32m   1286\u001b[0m         \u001b[0mcheck_classification_targets\u001b[0m\u001b[1;33m(\u001b[0m\u001b[0my\u001b[0m\u001b[1;33m)\u001b[0m\u001b[1;33m\u001b[0m\u001b[1;33m\u001b[0m\u001b[0m\n\u001b[0;32m   1287\u001b[0m         \u001b[0mself\u001b[0m\u001b[1;33m.\u001b[0m\u001b[0mclasses_\u001b[0m \u001b[1;33m=\u001b[0m \u001b[0mnp\u001b[0m\u001b[1;33m.\u001b[0m\u001b[0munique\u001b[0m\u001b[1;33m(\u001b[0m\u001b[0my\u001b[0m\u001b[1;33m)\u001b[0m\u001b[1;33m\u001b[0m\u001b[1;33m\u001b[0m\u001b[0m\n",
      "\u001b[1;32m~\\Anaconda3\\lib\\site-packages\\sklearn\\utils\\validation.py\u001b[0m in \u001b[0;36mcheck_X_y\u001b[1;34m(X, y, accept_sparse, accept_large_sparse, dtype, order, copy, force_all_finite, ensure_2d, allow_nd, multi_output, ensure_min_samples, ensure_min_features, y_numeric, warn_on_dtype, estimator)\u001b[0m\n\u001b[0;32m    754\u001b[0m                     \u001b[0mensure_min_features\u001b[0m\u001b[1;33m=\u001b[0m\u001b[0mensure_min_features\u001b[0m\u001b[1;33m,\u001b[0m\u001b[1;33m\u001b[0m\u001b[1;33m\u001b[0m\u001b[0m\n\u001b[0;32m    755\u001b[0m                     \u001b[0mwarn_on_dtype\u001b[0m\u001b[1;33m=\u001b[0m\u001b[0mwarn_on_dtype\u001b[0m\u001b[1;33m,\u001b[0m\u001b[1;33m\u001b[0m\u001b[1;33m\u001b[0m\u001b[0m\n\u001b[1;32m--> 756\u001b[1;33m                     estimator=estimator)\n\u001b[0m\u001b[0;32m    757\u001b[0m     \u001b[1;32mif\u001b[0m \u001b[0mmulti_output\u001b[0m\u001b[1;33m:\u001b[0m\u001b[1;33m\u001b[0m\u001b[1;33m\u001b[0m\u001b[0m\n\u001b[0;32m    758\u001b[0m         y = check_array(y, 'csr', force_all_finite=True, ensure_2d=False,\n",
      "\u001b[1;32m~\\Anaconda3\\lib\\site-packages\\sklearn\\utils\\validation.py\u001b[0m in \u001b[0;36mcheck_array\u001b[1;34m(array, accept_sparse, accept_large_sparse, dtype, order, copy, force_all_finite, ensure_2d, allow_nd, ensure_min_samples, ensure_min_features, warn_on_dtype, estimator)\u001b[0m\n\u001b[0;32m    571\u001b[0m         \u001b[1;32mif\u001b[0m \u001b[0mforce_all_finite\u001b[0m\u001b[1;33m:\u001b[0m\u001b[1;33m\u001b[0m\u001b[1;33m\u001b[0m\u001b[0m\n\u001b[0;32m    572\u001b[0m             _assert_all_finite(array,\n\u001b[1;32m--> 573\u001b[1;33m                                allow_nan=force_all_finite == 'allow-nan')\n\u001b[0m\u001b[0;32m    574\u001b[0m \u001b[1;33m\u001b[0m\u001b[0m\n\u001b[0;32m    575\u001b[0m     \u001b[0mshape_repr\u001b[0m \u001b[1;33m=\u001b[0m \u001b[0m_shape_repr\u001b[0m\u001b[1;33m(\u001b[0m\u001b[0marray\u001b[0m\u001b[1;33m.\u001b[0m\u001b[0mshape\u001b[0m\u001b[1;33m)\u001b[0m\u001b[1;33m\u001b[0m\u001b[1;33m\u001b[0m\u001b[0m\n",
      "\u001b[1;32m~\\Anaconda3\\lib\\site-packages\\sklearn\\utils\\validation.py\u001b[0m in \u001b[0;36m_assert_all_finite\u001b[1;34m(X, allow_nan)\u001b[0m\n\u001b[0;32m     54\u001b[0m                 not allow_nan and not np.isfinite(X).all()):\n\u001b[0;32m     55\u001b[0m             \u001b[0mtype_err\u001b[0m \u001b[1;33m=\u001b[0m \u001b[1;34m'infinity'\u001b[0m \u001b[1;32mif\u001b[0m \u001b[0mallow_nan\u001b[0m \u001b[1;32melse\u001b[0m \u001b[1;34m'NaN, infinity'\u001b[0m\u001b[1;33m\u001b[0m\u001b[1;33m\u001b[0m\u001b[0m\n\u001b[1;32m---> 56\u001b[1;33m             \u001b[1;32mraise\u001b[0m \u001b[0mValueError\u001b[0m\u001b[1;33m(\u001b[0m\u001b[0mmsg_err\u001b[0m\u001b[1;33m.\u001b[0m\u001b[0mformat\u001b[0m\u001b[1;33m(\u001b[0m\u001b[0mtype_err\u001b[0m\u001b[1;33m,\u001b[0m \u001b[0mX\u001b[0m\u001b[1;33m.\u001b[0m\u001b[0mdtype\u001b[0m\u001b[1;33m)\u001b[0m\u001b[1;33m)\u001b[0m\u001b[1;33m\u001b[0m\u001b[1;33m\u001b[0m\u001b[0m\n\u001b[0m\u001b[0;32m     57\u001b[0m \u001b[1;33m\u001b[0m\u001b[0m\n\u001b[0;32m     58\u001b[0m \u001b[1;33m\u001b[0m\u001b[0m\n",
      "\u001b[1;31mValueError\u001b[0m: Input contains NaN, infinity or a value too large for dtype('float64')."
     ]
    }
   ],
   "source": [
    "reg = linear_model.LogisticRegression()  # declere linear regration object\n",
    "reg.fit(area, price)"
   ]
  },
  {
   "cell_type": "code",
   "execution_count": 11,
   "metadata": {},
   "outputs": [],
   "source": [
    "area = data[['days_since_created']]"
   ]
  },
  {
   "cell_type": "code",
   "execution_count": 12,
   "metadata": {},
   "outputs": [],
   "source": [
    "price = data.karma"
   ]
  },
  {
   "cell_type": "code",
   "execution_count": null,
   "metadata": {},
   "outputs": [],
   "source": [
    "x = data.iloc[:,0:-1].values  # i need to replace last two column"
   ]
  },
  {
   "cell_type": "code",
   "execution_count": null,
   "metadata": {},
   "outputs": [],
   "source": [
    "y= x = data.iloc[:,-1].values"
   ]
  },
  {
   "cell_type": "code",
   "execution_count": null,
   "metadata": {},
   "outputs": [],
   "source": [
    "y"
   ]
  },
  {
   "cell_type": "code",
   "execution_count": null,
   "metadata": {},
   "outputs": [],
   "source": [
    "x.shape"
   ]
  },
  {
   "cell_type": "code",
   "execution_count": null,
   "metadata": {},
   "outputs": [],
   "source": [
    "y.shape"
   ]
  },
  {
   "cell_type": "code",
   "execution_count": null,
   "metadata": {},
   "outputs": [],
   "source": [
    "from sklearn.model_selection import train_test_split"
   ]
  },
  {
   "cell_type": "code",
   "execution_count": null,
   "metadata": {},
   "outputs": [],
   "source": [
    "x_train, x_test, y_train, y_test=train_test_split(x,y, test_size =0.25, random_state =123)"
   ]
  },
  {
   "cell_type": "code",
   "execution_count": null,
   "metadata": {},
   "outputs": [],
   "source": [
    "x_train.reshape"
   ]
  },
  {
   "cell_type": "code",
   "execution_count": null,
   "metadata": {},
   "outputs": [],
   "source": [
    "x_test.shape"
   ]
  },
  {
   "cell_type": "code",
   "execution_count": null,
   "metadata": {},
   "outputs": [],
   "source": [
    "from sklearn.linear_model import LinearRegression"
   ]
  },
  {
   "cell_type": "code",
   "execution_count": null,
   "metadata": {},
   "outputs": [],
   "source": [
    "lr = LinearRegression() # create linear regrasion object"
   ]
  },
  {
   "cell_type": "code",
   "execution_count": null,
   "metadata": {},
   "outputs": [],
   "source": [
    "lr.fit(x_train, y_train)"
   ]
  },
  {
   "cell_type": "code",
   "execution_count": null,
   "metadata": {},
   "outputs": [],
   "source": []
  },
  {
   "cell_type": "code",
   "execution_count": null,
   "metadata": {},
   "outputs": [],
   "source": []
  }
 ],
 "metadata": {
  "kernelspec": {
   "display_name": "Python 3",
   "language": "python",
   "name": "python3"
  },
  "language_info": {
   "codemirror_mode": {
    "name": "ipython",
    "version": 3
   },
   "file_extension": ".py",
   "mimetype": "text/x-python",
   "name": "python",
   "nbconvert_exporter": "python",
   "pygments_lexer": "ipython3",
   "version": "3.7.1"
  }
 },
 "nbformat": 4,
 "nbformat_minor": 2
}
